{
 "cells": [
  {
   "cell_type": "code",
   "execution_count": 5,
   "metadata": {},
   "outputs": [],
   "source": [
    "import re;\n",
    "import pandas as pd;\n",
    "import numpy as np;\n",
    "\n",
    "raw_dir='raw_data/'\n",
    "output_dir='output/'"
   ]
  },
  {
   "cell_type": "code",
   "execution_count": 8,
   "metadata": {},
   "outputs": [
    {
     "name": "stdout",
     "output_type": "stream",
     "text": [
      "Setting type, id for each district, campus\n",
      "Formatting columns\n",
      "Joining with slugs csv\n",
      "Filtering and outputting to csv\n",
      "done\n"
     ]
    }
   ],
   "source": [
    "# Format our cells\n",
    "def format_cols(col, val):\n",
    "    if col == 'county':\n",
    "        return val.str.title()\n",
    "    \n",
    "# This adds slugs for our schools app\n",
    "# To the AF ratings data we get from TEA\n",
    "\n",
    "# First step is to create the csv files with slugs\n",
    "# That's done in the Django app\n",
    "# To do this, run:\n",
    "# python manage.py exportslugs\n",
    "\n",
    "# The AF ratings from TEA are manually converted to a csv\n",
    "# Data is available here: https://tea.texas.gov/2019accountability.aspx\n",
    "df_ratings = pd.read_csv(raw_dir + '2022-state_overall_full.csv')\n",
    "\n",
    "# This is the sheet we pulled from Django DB\n",
    "df_slugs = pd.read_csv(raw_dir + '2022-campus_district_slugs.csv')\n",
    "    \n",
    "# The columns we'll be selecting for output\n",
    "final_cols = [\n",
    "    \"type\",\n",
    "    \"id\",\n",
    "    \"name\",\n",
    "    \"campus\",\n",
    "    \"district\",\n",
    "    \"county\",\n",
    "    \"overall\",\n",
    "    \"overall_score\",\n",
    "    \"1_achievement\",\n",
    "    \"1_achievement_score\",\n",
    "    \"2_progress\",\n",
    "    \"2_progress_score\",\n",
    "    \"3_gaps\",\n",
    "    \"3_gaps_score\",\n",
    "    \"student_pop\",\n",
    "    \"region\",\n",
    "    \"perc_econ_disadvantage\",\n",
    "    \"type_detail\",\n",
    "    \"absolute_url\",\n",
    "]\n",
    "\n",
    "# Rename columns from TEA ratings file\n",
    "df_ratings = df_ratings.rename(columns={\n",
    "                                \"Campus\": \"campus\",\n",
    "                                \"District\": \"district\",\n",
    "                                \"County\": \"county\",\n",
    "                                \"Overall Rating\": \"overall\",\n",
    "                                \"Overall Score\": \"overall_score\",\n",
    "                                \"Student Achievement Rating\": \"1_achievement\",\n",
    "                                \"Student Achievement Score\": \"1_achievement_score\",\n",
    "                                \"School Progress Rating\": \"2_progress\",\n",
    "                                \"School Progress Score\": \"2_progress_score\",\n",
    "                                \"Closing the Gaps Rating\": \"3_gaps\",\n",
    "                                \"Closing the Gaps Score\": \"3_gaps_score\",\n",
    "                                \"Number of Students\": \"student_pop\",\n",
    "                                \"Region\": \"region\",\n",
    "                                \"% Economically Disadvantaged\": \"perc_econ_disadvantage\",\n",
    "                                \"School Type\": \"type_detail\",\n",
    "                            })\n",
    "\n",
    "print(\"Setting type, id for each district, campus\")\n",
    "# Set properties to either based on if they are campus or district\n",
    "# We do this by checking if there's a campus number and returning a value\n",
    "# This indicates it's a campus, not a district\n",
    "# If not, return something else cause it's a district\n",
    "df_ratings[\"type\"] = df_ratings.apply(lambda x: 'campus' if pd.notnull(x['Campus Number']) else 'district', axis=1)\n",
    "df_ratings[\"id\"] = df_ratings.apply(lambda x: x['Campus Number'] if pd.notnull(x['Campus Number']) else x['District Number'], axis=1)\n",
    "df_ratings[\"name\"] = df_ratings.apply(lambda x: x['campus'] if pd.notnull(x['Campus Number']) else x['district'], axis=1)\n",
    "\n",
    "print(\"Formatting columns\")\n",
    "\n",
    "# df_ratings[\"district\"] = format_cols('district', df_ratings[\"district\"])\n",
    "df_ratings[\"county\"] = format_cols('county', df_ratings[\"county\"])\n",
    "\n",
    "# Our grade columns\n",
    "# grade_cols = [\"overall\", \"1_achievement\", \"2_progress\", \"3_gaps\"]\n",
    "# for col in grade_cols:\n",
    "#     df_ratings[col] = format_cols('grade', df_ratings[col])\n",
    "    \n",
    "print(\"Joining with slugs csv\")\n",
    "df_ratings_slugs = df_ratings.merge(df_slugs, left_on=\"id\", right_on='tea_id', how='left')\n",
    "\n",
    "print(\"Filtering and outputting to csv\")\n",
    "df_ratings_slugs = df_ratings_slugs[final_cols]\n",
    "df_ratings_slugs.to_csv(output_dir + '2022-af_ratings_slugs.csv', index=False)\n",
    "\n",
    "print('done')"
   ]
  },
  {
   "cell_type": "code",
   "execution_count": null,
   "metadata": {},
   "outputs": [],
   "source": []
  }
 ],
 "metadata": {
  "kernelspec": {
   "display_name": "Python 3.9.13 ('venv': venv)",
   "language": "python",
   "name": "python3"
  },
  "language_info": {
   "codemirror_mode": {
    "name": "ipython",
    "version": 3
   },
   "file_extension": ".py",
   "mimetype": "text/x-python",
   "name": "python",
   "nbconvert_exporter": "python",
   "pygments_lexer": "ipython3",
   "version": "3.9.13"
  },
  "vscode": {
   "interpreter": {
    "hash": "f2ea0605ca746702ad7cb7f307413c6b91de35b5efe5f471348922ec209547d0"
   }
  }
 },
 "nbformat": 4,
 "nbformat_minor": 2
}
